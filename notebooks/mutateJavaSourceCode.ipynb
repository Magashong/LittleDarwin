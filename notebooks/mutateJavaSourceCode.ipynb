{
 "cells": [
  {
   "cell_type": "markdown",
   "source": [
    "## Mutating a Code Excerpt Using LittleDarwin \n",
    "\n",
    "Have you ever wondered what you need to mutate a Java code excerpt? All you need is the help of LittleDarwin!\n",
    "In this notebook, we are going to see how this can be done, and what you can do with the machinery LittleDarwin provides for you.\n",
    " \n",
    "Consider this very simple piece of code:\n"
   ],
   "metadata": {
    "collapsed": false,
    "pycharm": {
     "name": "#%% md\n"
    }
   }
  },
  {
   "cell_type": "raw",
   "source": [
    "\n",
    "public class MyCode {\n",
    "\n",
    "  void bubbleSort(int array[])\n",
    "    {\n",
    "        int len = array.length;\n",
    "        for (int i = 0; i < len - 1; i++)\n",
    "            for (int j = 0; j < len - i - 1; j++)\n",
    "                if (array[j] > array[j+1])\n",
    "                {\n",
    "                    int temp = array[j];\n",
    "                    array[j] = array[j+1];\n",
    "                    arr[j+1] = temp;\n",
    "                }\n",
    "    }\n",
    "}\n"
   ],
   "metadata": {
    "collapsed": false
   }
  },
  {
   "cell_type": "markdown",
   "source": [
    "First, we need to write some Python code, because LittleDarwin is written in Python for some reason. \n",
    "\n",
    "\n",
    "We wrap the code in a string:"
   ],
   "metadata": {
    "collapsed": false,
    "pycharm": {
     "name": "#%% md\n"
    }
   }
  },
  {
   "cell_type": "code",
   "execution_count": 29,
   "metadata": {
    "collapsed": true,
    "pycharm": {
     "is_executing": false,
     "name": "#%% code\n"
    }
   },
   "outputs": [],
   "source": [
    "myJavaCode = \"\"\"\n",
    "\n",
    "public class MyCode {\n",
    "\n",
    "  void bubbleSort(int array[])\n",
    "    {\n",
    "        int len = array.length;\n",
    "        for (int i = 0; i < len - 1; i++)\n",
    "            for (int j = 0; j < len - i - 1; j++)\n",
    "                if (array[j] > array[j+1])\n",
    "                {\n",
    "                    int temp = array[j];\n",
    "                    array[j] = array[j+1];\n",
    "                    arr[j+1] = temp;\n",
    "                }\n",
    "    }\n",
    "}\n",
    "\n",
    "\n",
    "\"\"\""
   ]
  },
  {
   "cell_type": "markdown",
   "source": [
    "Now we need to summon the knights of LittleDarwin: JavaParse and JavaMutate:\n"
   ],
   "metadata": {
    "collapsed": false,
    "pycharm": {
     "name": "#%% md\n"
    }
   }
  },
  {
   "cell_type": "code",
   "execution_count": 30,
   "outputs": [],
   "source": [
    "from littledarwin import JavaParse, JavaMutate"
   ],
   "metadata": {
    "collapsed": false,
    "pycharm": {
     "name": "#%% code\n",
     "is_executing": false
    }
   }
  },
  {
   "cell_type": "markdown",
   "source": [
    "Then, we initiate the parser, and retrieve the parse tree:"
   ],
   "metadata": {
    "collapsed": false,
    "pycharm": {
     "name": "#%% md\n"
    }
   }
  },
  {
   "cell_type": "code",
   "execution_count": 31,
   "outputs": [],
   "source": [
    "myParser = JavaParse.JavaParse()\n",
    "myParseTree = myParser.parse(myJavaCode)"
   ],
   "metadata": {
    "collapsed": false,
    "pycharm": {
     "name": "#%% code\n",
     "is_executing": false
    }
   }
  },
  {
   "cell_type": "markdown",
   "source": [
    "Now we can initiate the mutator by giving it all it wants: the parse tree, source code, and the JavaParse instance.\n",
    "We can then execute *gatherMutants* method to retrieve all the mutants the knights of LittleDarwin could create. "
   ],
   "metadata": {
    "collapsed": false,
    "pycharm": {
     "name": "#%% md\n"
    }
   }
  },
  {
   "cell_type": "code",
   "execution_count": 32,
   "outputs": [],
   "source": [
    "myMutator = JavaMutate.JavaMutate(myParseTree, myJavaCode, myParser)\n",
    "mutants, mutantTypes = myMutator.gatherMutants(\"All\")"
   ],
   "metadata": {
    "collapsed": false,
    "pycharm": {
     "name": "#%% code\n",
     "is_executing": false
    }
   }
  },
  {
   "cell_type": "markdown",
   "source": [
    "At this point, the job is done. You have two things back from this quest: a bunch of mutants in a list, and a dictionary that tells you how many of each mutant type there is.\n"
   ],
   "metadata": {
    "collapsed": false,
    "pycharm": {
     "name": "#%% md\n"
    }
   }
  },
  {
   "cell_type": "code",
   "execution_count": 33,
   "outputs": [
    {
     "name": "stdout",
     "text": [
      "------------------------------------------------------------------\n",
      "\n",
      "/* LittleDarwin generated order-1 mutant\n",
      "mutant type: ArithmeticOperatorReplacementShortcut\n",
      "----> before:         for (int i = 0; i < len - 1; i++)\n",
      "----> after:         for (int i = 0; i < len - 1; i--)\n",
      "----> line number in original file: 8\n",
      "----> mutated node: 178\n",
      "\n",
      "*/\n",
      "\n",
      "\n",
      "\n",
      "public class MyCode {\n",
      "\n",
      "  void bubbleSort(int array[])\n",
      "    {\n",
      "        int len = array.length;\n",
      "        for (int i = 0; i < len - 1; i--)\n",
      "            for (int j = 0; j < len - i - 1; j++)\n",
      "                if (array[j] > array[j+1])\n",
      "                {\n",
      "                    int temp = array[j];\n",
      "                    array[j] = array[j+1];\n",
      "                    arr[j+1] = temp;\n",
      "                }\n",
      "    }\n",
      "}\n",
      "\n",
      "\n",
      "\n",
      "------------------------------------------------------------------\n",
      "\n",
      "------------------------------------------------------------------\n",
      "\n",
      "/* LittleDarwin generated order-1 mutant\n",
      "mutant type: ArithmeticOperatorReplacementShortcut\n",
      "----> before:             for (int j = 0; j < len - i - 1; j++)\n",
      "----> after:             for (int j = 0; j < len - i - 1; j--)\n",
      "----> line number in original file: 9\n",
      "----> mutated node: 131\n",
      "\n",
      "*/\n",
      "\n",
      "\n",
      "\n",
      "public class MyCode {\n",
      "\n",
      "  void bubbleSort(int array[])\n",
      "    {\n",
      "        int len = array.length;\n",
      "        for (int i = 0; i < len - 1; i++)\n",
      "            for (int j = 0; j < len - i - 1; j--)\n",
      "                if (array[j] > array[j+1])\n",
      "                {\n",
      "                    int temp = array[j];\n",
      "                    array[j] = array[j+1];\n",
      "                    arr[j+1] = temp;\n",
      "                }\n",
      "    }\n",
      "}\n",
      "\n",
      "\n",
      "\n",
      "------------------------------------------------------------------\n",
      "\n",
      "------------------------------------------------------------------\n",
      "\n",
      "/* LittleDarwin generated order-1 mutant\n",
      "mutant type: ArithmeticOperatorReplacementBinary\n",
      "----> before:         for (int i = 0; i < len - 1; i++)\n",
      "----> after:         for (int i = 0; i < len + 1; i++)\n",
      "----> line number in original file: 8\n",
      "----> mutated node: 185\n",
      "\n",
      "*/\n",
      "\n",
      "\n",
      "\n",
      "public class MyCode {\n",
      "\n",
      "  void bubbleSort(int array[])\n",
      "    {\n",
      "        int len = array.length;\n",
      "        for (int i = 0; i < len + 1; i++)\n",
      "            for (int j = 0; j < len - i - 1; j++)\n",
      "                if (array[j] > array[j+1])\n",
      "                {\n",
      "                    int temp = array[j];\n",
      "                    array[j] = array[j+1];\n",
      "                    arr[j+1] = temp;\n",
      "                }\n",
      "    }\n",
      "}\n",
      "\n",
      "\n",
      "\n",
      "------------------------------------------------------------------\n",
      "\n",
      "------------------------------------------------------------------\n",
      "\n",
      "/* LittleDarwin generated order-1 mutant\n",
      "mutant type: ArithmeticOperatorReplacementBinary\n",
      "----> before:             for (int j = 0; j < len - i - 1; j++)\n",
      "----> after:             for (int j = 0; j < len - i + 1; j++)\n",
      "----> line number in original file: 9\n",
      "----> mutated node: 138\n",
      "\n",
      "*/\n",
      "\n",
      "\n",
      "\n",
      "public class MyCode {\n",
      "\n",
      "  void bubbleSort(int array[])\n",
      "    {\n",
      "        int len = array.length;\n",
      "        for (int i = 0; i < len - 1; i++)\n",
      "            for (int j = 0; j < len - i + 1; j++)\n",
      "                if (array[j] > array[j+1])\n",
      "                {\n",
      "                    int temp = array[j];\n",
      "                    array[j] = array[j+1];\n",
      "                    arr[j+1] = temp;\n",
      "                }\n",
      "    }\n",
      "}\n",
      "\n",
      "\n",
      "\n",
      "------------------------------------------------------------------\n",
      "\n",
      "------------------------------------------------------------------\n",
      "\n",
      "/* LittleDarwin generated order-1 mutant\n",
      "mutant type: ArithmeticOperatorReplacementBinary\n",
      "----> before:             for (int j = 0; j < len - i - 1; j++)\n",
      "----> after:             for (int j = 0; j < len + i - 1; j++)\n",
      "----> line number in original file: 9\n",
      "----> mutated node: 144\n",
      "\n",
      "*/\n",
      "\n",
      "\n",
      "\n",
      "public class MyCode {\n",
      "\n",
      "  void bubbleSort(int array[])\n",
      "    {\n",
      "        int len = array.length;\n",
      "        for (int i = 0; i < len - 1; i++)\n",
      "            for (int j = 0; j < len + i - 1; j++)\n",
      "                if (array[j] > array[j+1])\n",
      "                {\n",
      "                    int temp = array[j];\n",
      "                    array[j] = array[j+1];\n",
      "                    arr[j+1] = temp;\n",
      "                }\n",
      "    }\n",
      "}\n",
      "\n",
      "\n",
      "\n",
      "------------------------------------------------------------------\n",
      "\n",
      "------------------------------------------------------------------\n",
      "\n",
      "/* LittleDarwin generated order-1 mutant\n",
      "mutant type: ArithmeticOperatorReplacementBinary\n",
      "----> before:                 if (array[j] > array[j+1])\n",
      "----> after:                 if (array[j] > array[j-1])\n",
      "----> line number in original file: 10\n",
      "----> mutated node: 102\n",
      "\n",
      "*/\n",
      "\n",
      "\n",
      "\n",
      "public class MyCode {\n",
      "\n",
      "  void bubbleSort(int array[])\n",
      "    {\n",
      "        int len = array.length;\n",
      "        for (int i = 0; i < len - 1; i++)\n",
      "            for (int j = 0; j < len - i - 1; j++)\n",
      "                if (array[j] > array[j-1])\n",
      "                {\n",
      "                    int temp = array[j];\n",
      "                    array[j] = array[j+1];\n",
      "                    arr[j+1] = temp;\n",
      "                }\n",
      "    }\n",
      "}\n",
      "\n",
      "\n",
      "\n",
      "------------------------------------------------------------------\n",
      "\n",
      "------------------------------------------------------------------\n",
      "\n",
      "/* LittleDarwin generated order-1 mutant\n",
      "mutant type: ArithmeticOperatorReplacementBinary\n",
      "----> before:                     array[j] = array[j+1];\n",
      "----> after:                     array[j] = array[j-1];\n",
      "----> line number in original file: 13\n",
      "----> mutated node: 51\n",
      "\n",
      "*/\n",
      "\n",
      "\n",
      "\n",
      "public class MyCode {\n",
      "\n",
      "  void bubbleSort(int array[])\n",
      "    {\n",
      "        int len = array.length;\n",
      "        for (int i = 0; i < len - 1; i++)\n",
      "            for (int j = 0; j < len - i - 1; j++)\n",
      "                if (array[j] > array[j+1])\n",
      "                {\n",
      "                    int temp = array[j];\n",
      "                    array[j] = array[j-1];\n",
      "                    arr[j+1] = temp;\n",
      "                }\n",
      "    }\n",
      "}\n",
      "\n",
      "\n",
      "\n",
      "------------------------------------------------------------------\n",
      "\n",
      "------------------------------------------------------------------\n",
      "\n",
      "/* LittleDarwin generated order-1 mutant\n",
      "mutant type: ArithmeticOperatorReplacementBinary\n",
      "----> before:                     arr[j+1] = temp;\n",
      "----> after:                     arr[j-1] = temp;\n",
      "----> line number in original file: 14\n",
      "----> mutated node: 31\n",
      "\n",
      "*/\n",
      "\n",
      "\n",
      "\n",
      "public class MyCode {\n",
      "\n",
      "  void bubbleSort(int array[])\n",
      "    {\n",
      "        int len = array.length;\n",
      "        for (int i = 0; i < len - 1; i++)\n",
      "            for (int j = 0; j < len - i - 1; j++)\n",
      "                if (array[j] > array[j+1])\n",
      "                {\n",
      "                    int temp = array[j];\n",
      "                    array[j] = array[j+1];\n",
      "                    arr[j-1] = temp;\n",
      "                }\n",
      "    }\n",
      "}\n",
      "\n",
      "\n",
      "\n",
      "------------------------------------------------------------------\n",
      "\n",
      "------------------------------------------------------------------\n",
      "\n",
      "/* LittleDarwin generated order-1 mutant\n",
      "mutant type: RelationalOperatorReplacement\n",
      "----> before:         for (int i = 0; i < len - 1; i++)\n",
      "----> after:         for (int i = 0; i >= len - 1; i++)\n",
      "----> line number in original file: 8\n",
      "----> mutated node: 184\n",
      "\n",
      "*/\n",
      "\n",
      "\n",
      "\n",
      "public class MyCode {\n",
      "\n",
      "  void bubbleSort(int array[])\n",
      "    {\n",
      "        int len = array.length;\n",
      "        for (int i = 0; i >= len - 1; i++)\n",
      "            for (int j = 0; j < len - i - 1; j++)\n",
      "                if (array[j] > array[j+1])\n",
      "                {\n",
      "                    int temp = array[j];\n",
      "                    array[j] = array[j+1];\n",
      "                    arr[j+1] = temp;\n",
      "                }\n",
      "    }\n",
      "}\n",
      "\n",
      "\n",
      "\n",
      "------------------------------------------------------------------\n",
      "\n",
      "------------------------------------------------------------------\n",
      "\n",
      "/* LittleDarwin generated order-1 mutant\n",
      "mutant type: RelationalOperatorReplacement\n",
      "----> before:             for (int j = 0; j < len - i - 1; j++)\n",
      "----> after:             for (int j = 0; j >= len - i - 1; j++)\n",
      "----> line number in original file: 9\n",
      "----> mutated node: 137\n",
      "\n",
      "*/\n",
      "\n",
      "\n",
      "\n",
      "public class MyCode {\n",
      "\n",
      "  void bubbleSort(int array[])\n",
      "    {\n",
      "        int len = array.length;\n",
      "        for (int i = 0; i < len - 1; i++)\n",
      "            for (int j = 0; j >= len - i - 1; j++)\n",
      "                if (array[j] > array[j+1])\n",
      "                {\n",
      "                    int temp = array[j];\n",
      "                    array[j] = array[j+1];\n",
      "                    arr[j+1] = temp;\n",
      "                }\n",
      "    }\n",
      "}\n",
      "\n",
      "\n",
      "\n",
      "------------------------------------------------------------------\n",
      "\n",
      "------------------------------------------------------------------\n",
      "\n",
      "/* LittleDarwin generated order-1 mutant\n",
      "mutant type: RelationalOperatorReplacement\n",
      "----> before:                 if (array[j] > array[j+1])\n",
      "----> after:                 if (array[j] <= array[j+1])\n",
      "----> line number in original file: 10\n",
      "----> mutated node: 99\n",
      "\n",
      "*/\n",
      "\n",
      "\n",
      "\n",
      "public class MyCode {\n",
      "\n",
      "  void bubbleSort(int array[])\n",
      "    {\n",
      "        int len = array.length;\n",
      "        for (int i = 0; i < len - 1; i++)\n",
      "            for (int j = 0; j < len - i - 1; j++)\n",
      "                if (array[j] <= array[j+1])\n",
      "                {\n",
      "                    int temp = array[j];\n",
      "                    array[j] = array[j+1];\n",
      "                    arr[j+1] = temp;\n",
      "                }\n",
      "    }\n",
      "}\n",
      "\n",
      "\n",
      "\n",
      "------------------------------------------------------------------\n",
      "\n"
     ],
     "output_type": "stream"
    }
   ],
   "source": [
    "for mt in mutants:\n",
    "    print(\"------------------------------------------------------------------\\n\")\n",
    "    print(mt)\n",
    "    print(\"------------------------------------------------------------------\\n\")\n",
    "    "
   ],
   "metadata": {
    "collapsed": false,
    "pycharm": {
     "name": "#%% code\n",
     "is_executing": false
    }
   }
  },
  {
   "cell_type": "code",
   "execution_count": 34,
   "outputs": [
    {
     "name": "stdout",
     "text": [
      "ArithmeticOperatorReplacementShortcut : 2\n",
      "ArithmeticOperatorReplacementBinary : 6\n",
      "RelationalOperatorReplacement : 3\n"
     ],
     "output_type": "stream"
    }
   ],
   "source": [
    "\n",
    "for mtType in mutantTypes.keys():\n",
    "    if mutantTypes[mtType] > 0:\n",
    "        print(mtType, \":\", mutantTypes[mtType])\n"
   ],
   "metadata": {
    "collapsed": false,
    "pycharm": {
     "name": "#%% code\n",
     "is_executing": false
    }
   }
  },
  {
   "cell_type": "markdown",
   "source": [
    "\n",
    "That's all folks! More complicated stuff coming soon."
   ],
   "metadata": {
    "collapsed": false,
    "pycharm": {
     "name": "#%% md\n"
    }
   }
  }
 ],
 "metadata": {
  "kernelspec": {
   "display_name": "Python 3",
   "language": "python",
   "name": "python3"
  },
  "language_info": {
   "codemirror_mode": {
    "name": "ipython",
    "version": 2
   },
   "file_extension": ".py",
   "mimetype": "text/x-python",
   "name": "python",
   "nbconvert_exporter": "python",
   "pygments_lexer": "ipython2",
   "version": "2.7.6"
  },
  "pycharm": {
   "stem_cell": {
    "cell_type": "raw",
    "source": [],
    "metadata": {
     "collapsed": false
    }
   }
  }
 },
 "nbformat": 4,
 "nbformat_minor": 0
}